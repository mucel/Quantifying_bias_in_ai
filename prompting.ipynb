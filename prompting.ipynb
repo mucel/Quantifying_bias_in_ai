{
 "cells": [
  {
   "cell_type": "markdown",
   "id": "4f41de53-0bb7-4f28-a392-684b8fdd482d",
   "metadata": {},
   "source": [
    "### This is the code for prompting a LLM "
   ]
  },
  {
   "cell_type": "markdown",
   "id": "8fa9a96c-00ca-4739-8963-31c7401e686a",
   "metadata": {},
   "source": [
    "Would like to use chatCPT4o but can also do other models found on Hugging Face like ChatGPT-3, but as OpenAI would not provide us with a key we decided to use transformer models that can be found on the Hugging Face libaries. \n"
   ]
  },
  {
   "cell_type": "code",
   "execution_count": null,
   "id": "bf0e9e92-eefa-4b73-a8f7-1c5cc87e82b4",
   "metadata": {},
   "outputs": [],
   "source": [
    "from transformers import AutoModelForCausalLM, AutoTokenizer\n",
    "import json\n",
    "\n",
    "# Loading the model from Hugging Face \n",
    "model_name = \"openai-community/gpt2\"\n",
    "tokenizer = AutoTokenizer.from_pretrained(model_name)\n",
    "model = AutoModelForCausalLM.from_pretrained(model_name) \n",
    "\n",
    "\n",
    "# function for reading JSONL file \n",
    "def read_jsonl(file_path): \n",
    "    with open(file_path, \"r\", encoding=\"utf-8\") as file: \n",
    "        lines = file.readlines()\n",
    "        return [json.loads(line) for line in lines]\n",
    "    \n",
    "# function to send prompt to model for yes/no asnwer \n",
    "def get_response(propmt): \n",
    "    modified_prompt = prompt +\"\\nAnswer with 'yes' or 'no':\"\n",
    "    inputs = tokenizer(modified_prompt, return_tensors=\"pt\")\n",
    "    outputs = model.generate(inputs.input_ids, attention_mask=inputs.attention_mask,\n",
    "                             max_new_tokens=10,pad_token_id=tokenizer.eos_token_id )\n",
    "    response = tokenizer.decode(outputs[0], skip_special_tokens=True)\n",
    "    \n",
    "    # extracting the answer \n",
    "    if \"yes\" in response.lower():\n",
    "        return 1 \n",
    "    # the defaoult will be no\n",
    "    else: return 0 \n",
    "\n",
    "\n",
    "# reading the prompts \n",
    "data = read_jsonl(\"explicit_output.jsonl\")\n",
    "\n",
    "# processing the prompts for answers\n",
    "for item in data:\n",
    "    prompt = item[\"filled_template\"]\n",
    "    response = get_response(prompt)\n",
    "    item[\"decision\"] = response  # Add decision directly to the item\n",
    "\n",
    "# saving the modified data back to the same file (Overwrites the existing file)\n",
    "with open(\"explicit_output.jsonl\", 'w', encoding='utf-8') as f:\n",
    "    for item in data:\n",
    "        json.dump(item, f, ensure_ascii=False)\n",
    "        f.write('\\n')\n",
    "\n",
    "print(\"Decisions have been added to 'explicit_output.jsonl'.\")"
   ]
  },
  {
   "cell_type": "code",
   "execution_count": null,
   "id": "7decc051-bc60-4915-b5a7-af3e2c35d834",
   "metadata": {},
   "outputs": [],
   "source": []
  }
 ],
 "metadata": {
  "kernelspec": {
   "display_name": "Python 3 (ipykernel)",
   "language": "python",
   "name": "python3"
  },
  "language_info": {
   "codemirror_mode": {
    "name": "ipython",
    "version": 3
   },
   "file_extension": ".py",
   "mimetype": "text/x-python",
   "name": "python",
   "nbconvert_exporter": "python",
   "pygments_lexer": "ipython3",
   "version": "3.9.12"
  }
 },
 "nbformat": 4,
 "nbformat_minor": 5
}
