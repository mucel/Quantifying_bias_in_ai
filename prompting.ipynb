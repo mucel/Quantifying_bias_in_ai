{
 "cells": [
  {
   "cell_type": "markdown",
   "id": "4f41de53-0bb7-4f28-a392-684b8fdd482d",
   "metadata": {},
   "source": [
    "### This is the code for prompting a LLM "
   ]
  },
  {
   "cell_type": "markdown",
   "id": "8fa9a96c-00ca-4739-8963-31c7401e686a",
   "metadata": {},
   "source": [
    "Would like to use chatCPT4o but can also do other models found on Hugging Face like ChatGPT-3, but as OpenAI would not provide us with a key we decided to use transformer models that can be found on the Hugging Face libaries. \n"
   ]
  },
  {
   "cell_type": "code",
   "execution_count": null,
   "id": "bf0e9e92-eefa-4b73-a8f7-1c5cc87e82b4",
   "metadata": {},
   "outputs": [],
   "source": [
    "from transformers import pipeline\n",
    "import json\n",
    "\n",
    "# Loading the model from Hugging Face \n",
    "model_name = \"bigscience/bloom\"\n",
    "tokenizer = AutoTokenizer.from_pretrained(model_name)\n",
    "model = AutoModelForCausalLM.from_pretrained(model_name) \n",
    "\n",
    "\n",
    "# function for reading JSONL file \n",
    "def read_jsonl(file_path): \n",
    "    with open(file_path, \"r\", encoding=\"utf-8\") as file: \n",
    "        lines = file.readlines()\n",
    "        return [json.loads(line) for line in lines]\n",
    "    \n",
    "\n"
   ]
  }
 ],
 "metadata": {
  "kernelspec": {
   "display_name": "Python 3 (ipykernel)",
   "language": "python",
   "name": "python3"
  },
  "language_info": {
   "codemirror_mode": {
    "name": "ipython",
    "version": 3
   },
   "file_extension": ".py",
   "mimetype": "text/x-python",
   "name": "python",
   "nbconvert_exporter": "python",
   "pygments_lexer": "ipython3",
   "version": "3.9.12"
  }
 },
 "nbformat": 4,
 "nbformat_minor": 5
}
